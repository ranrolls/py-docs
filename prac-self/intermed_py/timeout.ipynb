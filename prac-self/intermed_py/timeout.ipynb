{
 "cells": [
  {
   "cell_type": "code",
   "execution_count": null,
   "metadata": {},
   "outputs": [],
   "source": []
  },
  {
   "cell_type": "code",
   "execution_count": 1,
   "metadata": {},
   "outputs": [
    {
     "name": "stdout",
     "output_type": "stream",
     "text": [
      "1\n",
      "2\n",
      "3\n",
      "4\n",
      "going to set stop event now!\n",
      "after stop event set!\n",
      "Hey there! I timed out! You can do things after me!\n"
     ]
    },
    {
     "name": "stdout",
     "output_type": "stream",
     "text": [
      "found stop event set\n"
     ]
    }
   ],
   "source": [
    "# Thread timeout\n",
    "from threading import Thread, Event\n",
    "import time\n",
    "\n",
    "stop_event = Event()\n",
    "\n",
    "def do_actions():\n",
    "    i = 0\n",
    "    while True:\n",
    "        i += 1\n",
    "        print(i)\n",
    "        time.sleep(1)\n",
    "        # Here we make the check if the other thread sent a signal to stop execution.\n",
    "        if stop_event.is_set():\n",
    "            print('found stop event set')\n",
    "            break\n",
    "\n",
    "\n",
    "if __name__ == '__main__':\n",
    "    # We create another Thread\n",
    "    action_thread = Thread(target=do_actions)\n",
    "\n",
    "    # Here we start the thread and we wait 3 seconds before the code continues to execute.\n",
    "    action_thread.start()\n",
    "    action_thread.join(timeout=3)\n",
    "    print('going to set stop event now!')\n",
    "    # We send a signal that the other thread should stop.\n",
    "    stop_event.set()\n",
    "    print('after stop event set!')\n",
    "\n",
    "    print(\"Hey there! I timed out! You can do things after me!\")"
   ]
  }
 ],
 "metadata": {
  "kernelspec": {
   "display_name": "venv",
   "language": "python",
   "name": "python3"
  },
  "language_info": {
   "codemirror_mode": {
    "name": "ipython",
    "version": 3
   },
   "file_extension": ".py",
   "mimetype": "text/x-python",
   "name": "python",
   "nbconvert_exporter": "python",
   "pygments_lexer": "ipython3",
   "version": "3.12.3"
  }
 },
 "nbformat": 4,
 "nbformat_minor": 2
}
