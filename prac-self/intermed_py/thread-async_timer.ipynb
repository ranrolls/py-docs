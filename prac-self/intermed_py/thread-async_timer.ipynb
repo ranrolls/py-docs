{
 "cells": [
  {
   "cell_type": "code",
   "execution_count": null,
   "metadata": {},
   "outputs": [],
   "source": []
  },
  {
   "cell_type": "code",
   "execution_count": 21,
   "metadata": {},
   "outputs": [
    {
     "name": "stdout",
     "output_type": "stream",
     "text": [
      "Scheduling...\n",
      "Now! async\n",
      "Waiting...\n"
     ]
    }
   ],
   "source": [
    "import asyncio\n",
    "\n",
    "async def do_something_async():\n",
    "    print('Now! async')\n",
    "    await asyncio.sleep(0.5)\n",
    "\n",
    "async def main():\n",
    "    print('Scheduling...')\n",
    "    await asyncio.sleep(1)\n",
    "    await do_something_async()\n",
    "    print('Waiting...')\n",
    "\n",
    "await main()"
   ]
  },
  {
   "cell_type": "code",
   "execution_count": 1,
   "metadata": {},
   "outputs": [
    {
     "name": "stdout",
     "output_type": "stream",
     "text": [
      "arg1\n",
      "arg2\n",
      "\n",
      "OWLS\n",
      "OWLS\n",
      "OWLS\n"
     ]
    }
   ],
   "source": [
    "from threading import Timer\n",
    "\n",
    "def twoArgs(arg1,arg2):\n",
    "    print(arg1)\n",
    "    print(arg2)\n",
    "    print(\"\")\n",
    "\n",
    "def nArgs(*args):\n",
    "    for each in args:\n",
    "        print(each)\n",
    "\n",
    "#arguments: \n",
    "#how long to wait (in seconds), \n",
    "#what function to call, \n",
    "#what gets passed in\n",
    "r = Timer(1.0, twoArgs, (\"arg1\",\"arg2\"))\n",
    "s = Timer(2.0, nArgs, (\"OWLS\",\"OWLS\",\"OWLS\"))\n",
    "\n",
    "s.start()\n",
    "r.start()"
   ]
  }
 ],
 "metadata": {
  "kernelspec": {
   "display_name": "venv",
   "language": "python",
   "name": "python3"
  },
  "language_info": {
   "codemirror_mode": {
    "name": "ipython",
    "version": 3
   },
   "file_extension": ".py",
   "mimetype": "text/x-python",
   "name": "python",
   "nbconvert_exporter": "python",
   "pygments_lexer": "ipython3",
   "version": "3.12.3"
  }
 },
 "nbformat": 4,
 "nbformat_minor": 2
}
