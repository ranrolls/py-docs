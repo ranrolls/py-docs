{
 "cells": [
  {
   "cell_type": "code",
   "execution_count": null,
   "metadata": {},
   "outputs": [],
   "source": []
  },
  {
   "cell_type": "code",
   "execution_count": null,
   "metadata": {},
   "outputs": [],
   "source": []
  },
  {
   "cell_type": "code",
   "execution_count": null,
   "metadata": {},
   "outputs": [],
   "source": []
  },
  {
   "cell_type": "code",
   "execution_count": null,
   "metadata": {},
   "outputs": [],
   "source": []
  },
  {
   "cell_type": "code",
   "execution_count": null,
   "metadata": {},
   "outputs": [],
   "source": []
  },
  {
   "cell_type": "code",
   "execution_count": null,
   "metadata": {},
   "outputs": [],
   "source": []
  },
  {
   "cell_type": "code",
   "execution_count": null,
   "metadata": {},
   "outputs": [],
   "source": []
  },
  {
   "cell_type": "code",
   "execution_count": null,
   "metadata": {},
   "outputs": [],
   "source": []
  },
  {
   "cell_type": "code",
   "execution_count": null,
   "metadata": {},
   "outputs": [],
   "source": []
  },
  {
   "cell_type": "code",
   "execution_count": null,
   "metadata": {},
   "outputs": [],
   "source": []
  },
  {
   "cell_type": "code",
   "execution_count": null,
   "metadata": {},
   "outputs": [],
   "source": []
  },
  {
   "cell_type": "code",
   "execution_count": null,
   "metadata": {},
   "outputs": [],
   "source": []
  },
  {
   "cell_type": "code",
   "execution_count": null,
   "metadata": {},
   "outputs": [],
   "source": []
  },
  {
   "cell_type": "code",
   "execution_count": 74,
   "metadata": {},
   "outputs": [
    {
     "name": "stdout",
     "output_type": "stream",
     "text": [
      "Yours Truly\n"
     ]
    }
   ],
   "source": [
    "import json\n",
    "with open('testfile.json') as f:\n",
    "    d = json.load(f)\n",
    "    print(d[\"slideshow\"][\"author\"])"
   ]
  },
  {
   "cell_type": "code",
   "execution_count": 70,
   "metadata": {},
   "outputs": [
    {
     "name": "stdout",
     "output_type": "stream",
     "text": [
      "<class 'str'>\n",
      "Yours Truly\n",
      "<class 'dict'>\n",
      "<class 'str'>\n"
     ]
    }
   ],
   "source": [
    "import urllib.request;\timport json\n",
    "req = urllib.request.urlopen(\"http://httpbin.org/json\")\n",
    "data = req.read().decode('utf-8'); print(type(data))\n",
    "obj = json.loads(data); print(obj[\"slideshow\"][\"author\"])\n",
    "print(type(obj))\n",
    "newStr = json.dumps(obj)\n",
    "print(type(newStr))"
   ]
  },
  {
   "cell_type": "code",
   "execution_count": 66,
   "metadata": {},
   "outputs": [
    {
     "name": "stdout",
     "output_type": "stream",
     "text": [
      "50\n",
      "55\n",
      "60\n",
      "65\n",
      "3\n",
      "4\n",
      "3\n",
      "4\n",
      "3\n",
      "4\n",
      "True\n",
      "True\n",
      "True\n"
     ]
    }
   ],
   "source": [
    "import itertools\n",
    "# Infinite Counting, second parameter is step size\n",
    "for x in itertools.count(50, 5): # count start from 50\n",
    "    print(x) # 50 55 60 …..\n",
    "    if x == 65: break\n",
    "x = 0\n",
    "# Infinite Cycling\n",
    "for c in itertools.cycle([3, 4]):\n",
    "    print(c)\n",
    "    x = x + 1\n",
    "    if x > 5: break # break after 50 cycles\n",
    "# Infinite Repeating\n",
    "x = 0\n",
    "for r in itertools.repeat(True):\n",
    "    print(r)\n",
    "    x = x + 1\n",
    "    if x > 2: break # break after 100 cycle"
   ]
  },
  {
   "cell_type": "code",
   "execution_count": 60,
   "metadata": {},
   "outputs": [
    {
     "name": "stdout",
     "output_type": "stream",
     "text": [
      "['Sue', 'jerry', 'linda']\n"
     ]
    }
   ],
   "source": [
    "print(sorted([\"Sue\", \"jerry\", \"linda\"]))"
   ]
  },
  {
   "cell_type": "code",
   "execution_count": 59,
   "metadata": {},
   "outputs": [
    {
     "name": "stdout",
     "output_type": "stream",
     "text": [
      "[('alice', 'B', 12), ('eliza', 'A', 16), ('tae', 'C', 15)]\n",
      "[('eliza', 'A', 16), ('alice', 'B', 12), ('tae', 'C', 15)]\n",
      "[432, 231, 123]\n",
      "JKC\n"
     ]
    }
   ],
   "source": [
    "students = [ ('alice', 'B', 12), ('eliza', 'A', 16), ('tae', 'C', 15)]\n",
    "print(sorted(students, key=lambda student:student[0]))\n",
    "print(sorted(students, key=lambda student:student[1]))\n",
    "leaderBoard = {231: \"CKL\", 123:\"ABC\", 432:\"JKC\"}\n",
    "print(sorted(leaderBoard, reverse=True))\n",
    "print(leaderBoard.get(432))"
   ]
  },
  {
   "cell_type": "code",
   "execution_count": 56,
   "metadata": {},
   "outputs": [
    {
     "name": "stdout",
     "output_type": "stream",
     "text": [
      "-2\n",
      "2.3\n",
      "8\n"
     ]
    }
   ],
   "source": [
    "ra = -2.3\n",
    "print(round(ra))\n",
    "print(abs(ra))\n",
    "print(pow(2, 3))"
   ]
  },
  {
   "cell_type": "code",
   "execution_count": 55,
   "metadata": {},
   "outputs": [
    {
     "name": "stdout",
     "output_type": "stream",
     "text": [
      "3\n",
      "6\n",
      "9\n"
     ]
    }
   ],
   "source": [
    "r = range(3, 11, 3) # start, stop, step\n",
    "for rr in r: print(rr)"
   ]
  },
  {
   "cell_type": "code",
   "execution_count": 51,
   "metadata": {},
   "outputs": [
    {
     "name": "stdout",
     "output_type": "stream",
     "text": [
      "1\n"
     ]
    }
   ],
   "source": [
    "from dataclasses import dataclass\n",
    "@dataclass(frozen=True)\n",
    "class Bok:\n",
    "    title: str = 't'\n",
    "    pages: int = 1\n",
    "    def a(self): self.pages = 2\n",
    "b = Bok()\n",
    "# b.pages = 2 # FrozenInstanceError\n",
    "# b.a() # FrozenInstanceError\n",
    "print(b.pages)"
   ]
  },
  {
   "cell_type": "code",
   "execution_count": 44,
   "metadata": {},
   "outputs": [
    {
     "name": "stdout",
     "output_type": "stream",
     "text": [
      "{'title': 'a', 'pages': 1, 'price': 1.0}\n"
     ]
    }
   ],
   "source": [
    "from dataclasses import dataclass\n",
    "@dataclass\n",
    "class Bok:\n",
    "    title: str\n",
    "    pages: int\n",
    "    price: float\n",
    "    def __post_init__(self):\n",
    "        self.desc = {\n",
    "            \"title\": self.title,\n",
    "            \"pages\": self.pages,\n",
    "            \"price\": self.price\n",
    "        }\n",
    "b = Bok(\"a\",1, 1.0)\n",
    "print(b.desc)"
   ]
  },
  {
   "cell_type": "code",
   "execution_count": 34,
   "metadata": {},
   "outputs": [
    {
     "name": "stdout",
     "output_type": "stream",
     "text": [
      "math lang\n",
      "math => lang\n",
      "math => lang\n"
     ]
    }
   ],
   "source": [
    "from abc import ABC, abstractmethod\n",
    "class B(ABC):\n",
    "    @abstractmethod\n",
    "    def setName(self):\n",
    "        pass\n",
    "class Math(B):\n",
    "    def __init__(self):\n",
    "        self.setName()\n",
    "    def setName(self):\n",
    "        self.name = \"math\"\n",
    "class Lang(B):\n",
    "    def __init__(self):\n",
    "        self.setName()\n",
    "    def setName(self):\n",
    "        self.name = \"lang\"\n",
    "class Subs:\n",
    "    def __init__(self,math,lang):\n",
    "        self.math = math.name\n",
    "        self.lang = lang.name\n",
    "    def p(self):\n",
    "        print(self.math, self.lang)\n",
    "        return None\n",
    "    def __str__(self):\n",
    "        return self.math + \" => \" + self.lang\n",
    "s = Subs(Math(), Lang())\n",
    "s.p()\n",
    "print(str(s))\n",
    "print(s)"
   ]
  },
  {
   "cell_type": "code",
   "execution_count": 20,
   "metadata": {},
   "outputs": [
    {
     "name": "stdout",
     "output_type": "stream",
     "text": [
      "(<class '__main__.C'>, <class '__main__.B'>, <class '__main__.A'>, <class 'object'>)\n",
      "foo     bar    Class B\n"
     ]
    }
   ],
   "source": [
    "class A:\n",
    "    def __init__(self):\n",
    "        super().__init__()\n",
    "        self.foo = \"foo\"; self.name = \"Class A\"\n",
    "class B:\n",
    "    def __init__(self):\n",
    "        super().__init__()\n",
    "        self.bar = \"bar\"; self.name = \"Class B\"\n",
    "class C(B, A):\n",
    "    def __init__(self): super().__init__()\n",
    "    def showprops(self):\n",
    "        print(self.foo, \"   \", self.bar, \"  \", self.name)\n",
    "# create the class and call showprops()\n",
    "c = C(); print(C.__mro__)\n",
    "# __mro__\tprints the order of inheritance in tuple as:\n",
    "# (<class '__main__.C'>, <class '__main__.B'>, <class '__main__.A'>, <class 'object'>)\n",
    "# priority wise, c has higher over b and vice-versa\n",
    "c.showprops()"
   ]
  },
  {
   "cell_type": "code",
   "execution_count": 15,
   "metadata": {},
   "outputs": [
    {
     "name": "stdout",
     "output_type": "stream",
     "text": [
      "2\n"
     ]
    },
    {
     "ename": "AttributeError",
     "evalue": "type object 'A' has no attribute '__a'",
     "output_type": "error",
     "traceback": [
      "\u001b[1;31m---------------------------------------------------------------------------\u001b[0m",
      "\u001b[1;31mAttributeError\u001b[0m                            Traceback (most recent call last)",
      "Cell \u001b[1;32mIn[15], line 5\u001b[0m\n\u001b[0;32m      3\u001b[0m     a \u001b[38;5;241m=\u001b[39m \u001b[38;5;241m2\u001b[39m\n\u001b[0;32m      4\u001b[0m \u001b[38;5;28mprint\u001b[39m(A\u001b[38;5;241m.\u001b[39ma)  \u001b[38;5;66;03m# 2\u001b[39;00m\n\u001b[1;32m----> 5\u001b[0m \u001b[38;5;28mprint\u001b[39m(\u001b[43mA\u001b[49m\u001b[38;5;241;43m.\u001b[39;49m\u001b[43m__a\u001b[49m) \u001b[38;5;66;03m# AttributeError\u001b[39;00m\n",
      "\u001b[1;31mAttributeError\u001b[0m: type object 'A' has no attribute '__a'"
     ]
    }
   ],
   "source": [
    "class A:\n",
    "    __a = 1\n",
    "    a = 2\n",
    "print(A.a)  # 2\n",
    "# print(A.__a) # AttributeError"
   ]
  },
  {
   "cell_type": "code",
   "execution_count": 6,
   "metadata": {},
   "outputs": [
    {
     "name": "stdout",
     "output_type": "stream",
     "text": [
      "2\n"
     ]
    }
   ],
   "source": [
    "from abc import ABC, abstractmethod\n",
    "class G(ABC):\n",
    "    def __init__(self): super().__init__()\n",
    "    @abstractmethod\n",
    "    def clc(self): pass\n",
    "class C(G):\n",
    "    def __init__(self): self.a = 2\n",
    "    def clc(self):\n",
    "        return 2\n",
    "ca = C()\n",
    "print(ca.clc())"
   ]
  },
  {
   "cell_type": "code",
   "execution_count": 8,
   "metadata": {},
   "outputs": [
    {
     "name": "stdout",
     "output_type": "stream",
     "text": [
      "2\n",
      "2\n",
      "4\n",
      "5\n"
     ]
    }
   ],
   "source": [
    "class A:\n",
    "    a = 2\n",
    "    @staticmethod\n",
    "    def b():\n",
    "        A.a = A.a + 2\n",
    "        return A.a\n",
    "    @classmethod\n",
    "    def c(self):\n",
    "        # return self.a     # OR\n",
    "        return A.a\n",
    "print(A.a)\n",
    "j = A()\n",
    "print(j.c())\n",
    "A.b()\n",
    "print(j.c())\n",
    "A.a += 1\n",
    "i = A()\n",
    "print(A.a)"
   ]
  }
 ],
 "metadata": {
  "kernelspec": {
   "display_name": "Python 3",
   "language": "python",
   "name": "python3"
  },
  "language_info": {
   "codemirror_mode": {
    "name": "ipython",
    "version": 3
   },
   "file_extension": ".py",
   "mimetype": "text/x-python",
   "name": "python",
   "nbconvert_exporter": "python",
   "pygments_lexer": "ipython3",
   "version": "3.12.3"
  }
 },
 "nbformat": 4,
 "nbformat_minor": 2
}
