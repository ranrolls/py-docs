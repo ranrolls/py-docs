{
 "cells": [
  {
   "cell_type": "code",
   "execution_count": 2,
   "metadata": {},
   "outputs": [
    {
     "name": "stdout",
     "output_type": "stream",
     "text": [
      "for\n"
     ]
    }
   ],
   "source": [
    "# max use lexicographic order by default for ordering\n",
    "string_list = [\"Geeks\", \"for\", \"Geeks\"]\n",
    " \n",
    "max_val = max(string_list)\n",
    "print(max_val)"
   ]
  },
  {
   "cell_type": "code",
   "execution_count": 3,
   "metadata": {},
   "outputs": [
    {
     "name": "stdout",
     "output_type": "stream",
     "text": [
      "First index of given value is =>  2\n"
     ]
    }
   ],
   "source": [
    "l = [ 1, 2, 3, 4, 1, 2, 3, 4 ]\n",
    "fi = l.index(3)\n",
    "print('First index of given value is => ', fi)"
   ]
  },
  {
   "cell_type": "code",
   "execution_count": 4,
   "metadata": {},
   "outputs": [
    {
     "name": "stdout",
     "output_type": "stream",
     "text": [
      "geeks\n"
     ]
    }
   ],
   "source": [
    "var1 = \"geeks\"\n",
    "var2 = \"for\"\n",
    "var3 = \"geek\"\n",
    "max_val = max(var1, var2, var3, key=len)\n",
    "print(max_val)"
   ]
  },
  {
   "cell_type": "code",
   "execution_count": 5,
   "metadata": {},
   "outputs": [
    {
     "name": "stdout",
     "output_type": "stream",
     "text": [
      "[['s', 'a', 't'], ['b', 'a', 't'], ['c', 'a', 't'], ['m', 'a', 't']]\n"
     ]
    }
   ],
   "source": [
    "# List of strings\n",
    "l = ['sat', 'bat', 'cat', 'mat']\n",
    "# map() can listify the list of strings individually\n",
    "test = list(map(list, l))\n",
    "print(test)"
   ]
  },
  {
   "cell_type": "code",
   "execution_count": 6,
   "metadata": {},
   "outputs": [
    {
     "name": "stdout",
     "output_type": "stream",
     "text": [
      "[5, 7, 9]\n"
     ]
    }
   ],
   "source": [
    "numbers1 = [1, 2, 3]\n",
    "numbers2 = [4, 5, 6]\n",
    "result = map(lambda x, y: x + y, numbers1, numbers2)\n",
    "print(list(result))"
   ]
  },
  {
   "cell_type": "code",
   "execution_count": 7,
   "metadata": {},
   "outputs": [
    {
     "name": "stdout",
     "output_type": "stream",
     "text": [
      "[2, 4, 6, 8]\n"
     ]
    }
   ],
   "source": [
    "# Return double of n\n",
    "def addition(n):\n",
    "    return n + n\n",
    "# We double all numbers using map()\n",
    "numbers = (1, 2, 3, 4)\n",
    "result = map(addition, numbers)\n",
    "print(list(result))"
   ]
  },
  {
   "cell_type": "code",
   "execution_count": 8,
   "metadata": {},
   "outputs": [
    {
     "name": "stdout",
     "output_type": "stream",
     "text": [
      "<class 'filter'>\n",
      "[1, 3, 5, 13]\n"
     ]
    }
   ],
   "source": [
    "# a list contains both even and odd numbers. \n",
    "seq = [0, 1, 2, 3, 5, 8, 13]\n",
    "# result contains odd numbers of the list\n",
    "result = filter(lambda x: x % 2 != 0, seq)\n",
    "print(type(result)) # filter\n",
    "print(list(result))"
   ]
  },
  {
   "cell_type": "code",
   "execution_count": 9,
   "metadata": {},
   "outputs": [
    {
     "name": "stdout",
     "output_type": "stream",
     "text": [
      "e\n",
      "e\n"
     ]
    }
   ],
   "source": [
    "def fun(variable):  # handler\n",
    "    letters = ['a', 'e', 'i', 'o', 'u']\n",
    "    if (variable in letters): return True\n",
    "    else: return False\n",
    "sequence = ['g', 'e', 'e', 'j', 'k', 's', 'p', 'r']\n",
    "# using filter function\n",
    "filtered = filter(fun, sequence)\n",
    "for s in filtered: print(s)"
   ]
  },
  {
   "cell_type": "code",
   "execution_count": 10,
   "metadata": {},
   "outputs": [
    {
     "name": "stdout",
     "output_type": "stream",
     "text": [
      "True\n",
      "ASCII Value of 97 is:  a\n"
     ]
    }
   ],
   "source": [
    "# any, all, reversed\n",
    "l = [False, False, True, False, False]\n",
    "print(any(l))   # True\n",
    "num = 97\n",
    "print(\"ASCII Value of 97 is: \", chr(num)) # a"
   ]
  },
  {
   "cell_type": "code",
   "execution_count": 11,
   "metadata": {},
   "outputs": [
    {
     "name": "stdout",
     "output_type": "stream",
     "text": [
      "['a', 'b', 'c', 'd']\n",
      "a:b:c:d\n"
     ]
    }
   ],
   "source": [
    "a_str = 'a b c d'; \tprint(a_str.split()) # ['a','b','c','d']\n",
    "a_list = a_str.split(); print(':'.join(a_list)) # a:b:c:d"
   ]
  },
  {
   "cell_type": "code",
   "execution_count": 12,
   "metadata": {},
   "outputs": [
    {
     "name": "stdout",
     "output_type": "stream",
     "text": [
      "1    ,30000,    2,00003\n",
      "+1=+0003=232,423\n",
      "234.000\n"
     ]
    }
   ],
   "source": [
    "# > right justify n number of character\n",
    "# < left justify n number of character\n",
    "print('{0:<5},{2:<05},{1:>5},{2:>05}'.format(1,2,3))\n",
    "print('{0:+}={2:+05}={1:,}'.format(1,232423,3))\n",
    "print('{0:.3f}'.format(234))"
   ]
  },
  {
   "cell_type": "code",
   "execution_count": 13,
   "metadata": {},
   "outputs": [
    {
     "name": "stdout",
     "output_type": "stream",
     "text": [
      "9 4 3\n",
      "1 3 2 3\n"
     ]
    }
   ],
   "source": [
    "print('{xx} {b} {a}'.format(a=1+2,b=2*2,xx=3*3))\t# 3 2 1\n",
    "print('{0} {2} {1} {2}'.format(1,2,3))\t# 1 3 2 3"
   ]
  },
  {
   "cell_type": "code",
   "execution_count": 14,
   "metadata": {},
   "outputs": [
    {
     "name": "stdout",
     "output_type": "stream",
     "text": [
      "True\n"
     ]
    }
   ],
   "source": [
    "str_1 = '`Hello'\n",
    "print(id(str_1) != id(str_1.lower())) # True"
   ]
  },
  {
   "cell_type": "code",
   "execution_count": 15,
   "metadata": {},
   "outputs": [
    {
     "name": "stdout",
     "output_type": "stream",
     "text": [
      "value error\n"
     ]
    }
   ],
   "source": [
    "import sys\n",
    "try:\n",
    "    # x = 5/0\n",
    "    # x = inet('asdf') # NameError\n",
    "    x = int('asdf')  # ValueError\n",
    "    # x = 5/0\t\t   # ZeroDivisionError\n",
    "    raise TypeError('custom error raised')\n",
    "except ValueError:  print('value error')\n",
    "except ZeroDivisionError: print('zero division error')\n",
    "except: # default catcher\n",
    "    print(f'unknown error: {sys.exc_info()}')\n",
    "else: print('good job')"
   ]
  },
  {
   "cell_type": "code",
   "execution_count": 16,
   "metadata": {},
   "outputs": [
    {
     "name": "stdout",
     "output_type": "stream",
     "text": [
      "3\n"
     ]
    }
   ],
   "source": [
    "class Animal:\n",
    "# this is class variable and shared among all instac\n",
    "\tx = [1, 2, 4]\n",
    "\tdef __ini__(self):\n",
    "\t\tprint('init anim')\n",
    "a_anim = Animal();\tb_anim = Animal()\n",
    "a_anim.x[2] = 3 # ref variable\n",
    "print(b_anim.x[2])\t# 3"
   ]
  },
  {
   "cell_type": "code",
   "execution_count": 17,
   "metadata": {},
   "outputs": [
    {
     "name": "stdout",
     "output_type": "stream",
     "text": [
      "[0, 2, 4, 6, 8]\n",
      "[1, 2, 4]\n",
      "[(0, 0), (1, 1), (2, 4), (3, 9), (4, 16)]\n",
      "{'u', 'e', 's', 'r'}\n"
     ]
    }
   ],
   "source": [
    "seq = range(5)\n",
    "\n",
    "seq2 = [x * 2 for x in seq]; print(seq2)\n",
    "seq3 = [ x for x in seq if x % 3 != 0]\n",
    "print(seq3)\n",
    "\n",
    "seq4 = [(x, x**2) for x in seq] # square of x = x**2\n",
    "print(seq4)\n",
    "# (0,0),(1,1),(2,4),(3,9),(4,16)\n",
    "\n",
    "seq5 = {x for x in 'superduper' if x not in 'pd'}\n",
    "print(seq5)\n",
    "# u s e r\t\t# only condition passing items passed to result"
   ]
  },
  {
   "cell_type": "code",
   "execution_count": 18,
   "metadata": {},
   "outputs": [
    {
     "name": "stdout",
     "output_type": "stream",
     "text": [
      "{ '.Wabdeginort}\n",
      "{tronigedbaW.' }\n",
      "{bWg}\n",
      "{grWmIdvnao.itbf'hD sc,ey}\n",
      "{d nr'eao.it}\n",
      "{gbfhWDmIvsc,y}\n"
     ]
    }
   ],
   "source": [
    "def print_set(o):\n",
    "    print('{', end = '')\n",
    "    for x in o: print(x, end = '')\n",
    "    print('}')\n",
    "\n",
    "a = set(\"We're gonna need a bigger boat.\")\n",
    "b = set(\"I'm sorry, Dave. I'm afraid I can't do that.\")\n",
    "\n",
    "print_set(sorted(a))\n",
    "print_set(sorted(a, reverse=True))\n",
    "print_set(a - b) # items in a but not in b\n",
    "print_set(a | b) # items in one or both a and b\n",
    "print_set(a & b) # items in both a and b\n",
    "print_set(a ^ b) # items in a or b and not in both\n"
   ]
  },
  {
   "cell_type": "code",
   "execution_count": 19,
   "metadata": {},
   "outputs": [
    {
     "name": "stdout",
     "output_type": "stream",
     "text": [
      "['aa']\n"
     ]
    }
   ],
   "source": [
    "a_list = ['a','b']\n",
    "# append, insert, remove, del, pop\n",
    "a_list.insert(1, 'aa')\n",
    "a_list.append('e')\n",
    "del a_list[3]\n",
    "a_list.remove('a')\n",
    "a_list.pop()\n",
    "print(a_list)"
   ]
  },
  {
   "cell_type": "code",
   "execution_count": 20,
   "metadata": {},
   "outputs": [
    {
     "name": "stdout",
     "output_type": "stream",
     "text": [
      "in f3\n",
      "in f4\n",
      "out f3\n"
     ]
    }
   ],
   "source": [
    "def f1(f2):\n",
    "    def f3():\n",
    "        print('in f3')\n",
    "        f2()\n",
    "        print('out f3')\n",
    "    return f3\n",
    "@f1\n",
    "def f4():\n",
    "    print('in f4')\n",
    "f4()"
   ]
  },
  {
   "cell_type": "code",
   "execution_count": 21,
   "metadata": {},
   "outputs": [
    {
     "name": "stdout",
     "output_type": "stream",
     "text": [
      "0, 1, 2, 3, 4, 5, "
     ]
    }
   ],
   "source": [
    "def inclusive_range(*args): # generator\n",
    "    start = 0; step = 1; stop = args[0]\n",
    "    i = start\n",
    "    while i <= stop:\n",
    "        yield i\n",
    "        i += step\n",
    "\n",
    "for i in inclusive_range(5): print(i, end = ', ')"
   ]
  },
  {
   "cell_type": "code",
   "execution_count": 22,
   "metadata": {},
   "outputs": [
    {
     "name": "stdout",
     "output_type": "stream",
     "text": [
      "<class 'dict'>\n",
      "a 1\n",
      "b 2\n"
     ]
    }
   ],
   "source": [
    "def k(**kwargs):\n",
    "    print(type(kwargs))\n",
    "    for k,v in kwargs.items():\n",
    "        print(k,v)\n",
    "k(a='1',b='2')"
   ]
  },
  {
   "cell_type": "code",
   "execution_count": 23,
   "metadata": {},
   "outputs": [
    {
     "name": "stdout",
     "output_type": "stream",
     "text": [
      "1\n",
      "2\n",
      "3\n",
      "4\n",
      "count reached to 3\n"
     ]
    }
   ],
   "source": [
    "# for-else / while-else\n",
    "count = 0; p = False; max_count = 5\n",
    "while p == False:\n",
    "\tcount += 1; print(count)\n",
    "\tif count <= 3: continue\t# will skip cycle\n",
    "\tif count > max_count: break\n",
    "\tif count == 4: p = True\t# trigger else\n",
    "else:\n",
    "\tprint('count reached to 3')\t# after loop"
   ]
  },
  {
   "cell_type": "code",
   "execution_count": 24,
   "metadata": {},
   "outputs": [
    {
     "name": "stdout",
     "output_type": "stream",
     "text": [
      "1\n"
     ]
    }
   ],
   "source": [
    "ccc = 1 if True else 2\n",
    "print(ccc) # conditional assign"
   ]
  },
  {
   "cell_type": "code",
   "execution_count": 25,
   "metadata": {},
   "outputs": [
    {
     "name": "stdout",
     "output_type": "stream",
     "text": [
      "True True\n",
      "True False\n",
      "True\n",
      "[4, 2] [4, 2]\n",
      "True\n"
     ]
    }
   ],
   "source": [
    "a = [1,2]; b = [1, 2]\n",
    "k = a\n",
    "print(k is a, a is k) # T T\n",
    "print(a == b, a is b) # T F\n",
    "print(a is not b) # T\n",
    "k[0] = 4 # same refer pointer\n",
    "print(a, k) # [4,2] [4,2]\n",
    "print(isinstance(k, list)) # T"
   ]
  },
  {
   "cell_type": "code",
   "execution_count": 26,
   "metadata": {},
   "outputs": [
    {
     "name": "stdout",
     "output_type": "stream",
     "text": [
      "1\n"
     ]
    }
   ],
   "source": [
    "try: p; print(1)\n",
    "except Exception as ex: print(ex)\n",
    "# name ‘p’ is not defined"
   ]
  },
  {
   "cell_type": "code",
   "execution_count": 27,
   "metadata": {},
   "outputs": [
    {
     "name": "stdout",
     "output_type": "stream",
     "text": [
      "True\n",
      "False\n",
      "False\n",
      "True\n"
     ]
    }
   ],
   "source": [
    "aa=1\n",
    "def FuncScope():\n",
    "    bb=2\n",
    "    print('aa' in globals()) # True\n",
    "    print('aa' in locals())  # False\n",
    "    print('bb' in globals()) # False\n",
    "    print('bb' in locals())  # True\n",
    "FuncScope()"
   ]
  },
  {
   "cell_type": "code",
   "execution_count": 28,
   "metadata": {},
   "outputs": [
    {
     "name": "stdout",
     "output_type": "stream",
     "text": [
      "140730847730104\n",
      "140730847730104\n",
      "True\n",
      "is not\n",
      "in locals\n",
      "None\n",
      "is None\n",
      "in globals\n"
     ]
    }
   ],
   "source": [
    "x=1; y=1\n",
    "print(id(x))\t# 140730388519352\n",
    "print(id(y))    # 140730388519352\n",
    "if id(x) == id(y): print(True)\t# True\n",
    "if id(x) is not id(y): print('is not')\n",
    "var = 3; local_none = None\n",
    "if 'var' in locals(): print('in locals')\n",
    "print(local_none)   # None\n",
    "if local_none == None: print('is None')\n",
    "if 'var' in globals(): print('in globals')"
   ]
  },
  {
   "cell_type": "code",
   "execution_count": 29,
   "metadata": {},
   "outputs": [
    {
     "name": "stdout",
     "output_type": "stream",
     "text": [
      "number\n",
      "tuple\n",
      "number\n",
      "True=number 1.1=float 10.0=complex (1, 2)=tuple 2=False c=5 "
     ]
    }
   ],
   "source": [
    "da = { True: 'bool', 1.1: 'float', 1e1: 'complex', (1, 2): 'tuple', 2: False, 1: 'number'  }\n",
    "# using bool and tuple as key break other items in dict\n",
    "da['c']=5\n",
    "print(da[True])     # number\n",
    "print(da[(1, 2)])   # tuple\n",
    "print(da[1])        # number\n",
    "for k, v in da.items():\n",
    "\tprint(f'{k}={v}', end = ' ')\n",
    "# True=number 1.1=float 10.0=complex (1, 2)=tuple 2=False c=5 "
   ]
  },
  {
   "cell_type": "code",
   "execution_count": 30,
   "metadata": {},
   "outputs": [
    {
     "name": "stdout",
     "output_type": "stream",
     "text": [
      "Kumar ban\n",
      "Kumar Ban\n",
      "a 9 8\n",
      "a 8 9\n",
      "\"5        \" \"        3\"\n",
      "\"50000000\" \"00000333\"\n"
     ]
    }
   ],
   "source": [
    "print('kumar ban'.capitalize())\t\t# Kumar ban\n",
    "print('kumar ban'.title())\t\t\t# Kumar Ban\n",
    "print('a {} {}'.format(9, 8))\t\t\t\t# a 9 8\n",
    "print('a {1} {0}'.format(9, 8))\t\t# a 8 9\n",
    "print('\"{1:<9}\" \"{0:>9}\"'.format(3, 5))\n",
    "# nine space add after element at position 1\n",
    "# nine space add before element at position 0\n",
    "# a \"5        \" \"        3\"\n",
    "print('\"{1:<08}\" \"{0:>08}\"'.format(333, 5))\n",
    "# fill 7 zeros for empty after, for element at position 1\n",
    "# fill 7 zeros for empty before, at position 0\n",
    "# a \"50000000\" \"00000333\"\n",
    "# here total output length is 8 and filled 7 zero for 5\n",
    "# and filled 5 zeros to 333 to complete length of 8 characters"
   ]
  },
  {
   "cell_type": "code",
   "execution_count": 31,
   "metadata": {},
   "outputs": [
    {
     "name": "stdout",
     "output_type": "stream",
     "text": [
      "2\n",
      "2.3333333333333335\n",
      "1\n"
     ]
    }
   ],
   "source": [
    "print( 7 // 3 )\t# 2\n",
    "print( 7 / 3 )  # 2.3333333335\n",
    "print( 7 % 3 )\t# 1"
   ]
  },
  {
   "cell_type": "code",
   "execution_count": 32,
   "metadata": {},
   "outputs": [
    {
     "name": "stdout",
     "output_type": "stream",
     "text": [
      "4 not prime\n",
      "2, 3, 5, 7, 11, 13, 17, 19, 23, 29, "
     ]
    }
   ],
   "source": [
    "def isprime(n):\n",
    "    if n <= 1: return False\n",
    "    for x in range(2, n):\n",
    "        if n % x == 0: return False\n",
    "    return True\n",
    "n = 4\n",
    "if isprime(n): print(f'{n} is prime')\t# 5 is prime\n",
    "else: print(f'{n} not prime')\t\t\t# 6 not prime\n",
    "def list_primes():\n",
    "\tfor n in range(30):\n",
    "\t\tif isprime(n): print(n, end = ', ', flush=True)\n",
    "\t\t# print() # this will print empty line\n",
    "list_primes()"
   ]
  },
  {
   "cell_type": "code",
   "execution_count": 33,
   "metadata": {},
   "outputs": [
    {
     "name": "stdout",
     "output_type": "stream",
     "text": [
      "1, 1, 2, 3, 5, 8, 13, 21, 34, "
     ]
    }
   ],
   "source": [
    "a, b = 0, 1\n",
    "while b < 50:\n",
    "    print(b, end = ', ', flush = True)\n",
    "    a, b = b, a + b     # fibonacci series algo\n",
    "# a will take b as value 1\n",
    "# when b gets a + b, it will take prev value of a\n",
    "# run code to understand better"
   ]
  },
  {
   "cell_type": "code",
   "execution_count": 34,
   "metadata": {},
   "outputs": [
    {
     "name": "stdout",
     "output_type": "stream",
     "text": [
      "4\n",
      "4\n",
      "4\n"
     ]
    }
   ],
   "source": [
    "x = 4; print('{}'.format(x))\t# 4\n",
    "print(f'{x}')\t\t\t# 4\t\t# usable in many cases\n",
    "print('%d' %x)\t\t\t# 4"
   ]
  },
  {
   "cell_type": "code",
   "execution_count": 35,
   "metadata": {},
   "outputs": [
    {
     "name": "stdout",
     "output_type": "stream",
     "text": [
      "3.12.3\n"
     ]
    }
   ],
   "source": [
    "import platform\n",
    "print(platform.python_version())"
   ]
  },
  {
   "cell_type": "code",
   "execution_count": 58,
   "metadata": {},
   "outputs": [
    {
     "name": "stdout",
     "output_type": "stream",
     "text": [
      "5\n",
      "[1, 11, 2, 3, 4]\n",
      "[1, 3]\n",
      "[3, 4]\n"
     ]
    }
   ],
   "source": [
    "a_list = [1, 2, 3]; a_list.append(4);   a_list.insert(1, 11);\t\n",
    "print(len(a_list))\t\t\t# 5\n",
    "print(a_list)\t\t\t# [ 1, 11, 2, 3, 4 ]\n",
    "del a_list[1]\n",
    "a_list.pop()\n",
    "a_list.remove(2)\t\t# remove first instance of value 2 in a_list\n",
    "print(a_list) \t\t\t# [ 1, 3 ]\n",
    "\n",
    "list_of_lists = [ [1,2],  [3,4] ]\n",
    "print(list_of_lists[-1])\t\t# [3,4]   last item in list by using -1\n",
    "# Note: IndexError on calling list_of_lists[2]\n"
   ]
  },
  {
   "cell_type": "code",
   "execution_count": 37,
   "metadata": {},
   "outputs": [
    {
     "name": "stdout",
     "output_type": "stream",
     "text": [
      "Item exists: True\n",
      "Item is a file: True\n",
      "Item is a directory: False\n"
     ]
    }
   ],
   "source": [
    "from os import path\n",
    "print (\"Item exists: \" + str(path.exists(\"testfile.txt\")))\n",
    "print (\"Item is a file: \" + str(path.isfile(\"testfile.txt\")))\n",
    "print (\"Item is a directory: \" + str(path.isdir(\"testfile.txt\")))\n"
   ]
  },
  {
   "cell_type": "code",
   "execution_count": 50,
   "metadata": {},
   "outputs": [
    {
     "name": "stdout",
     "output_type": "stream",
     "text": [
      "<class 'list'>\n",
      "0 => sample text\n",
      "\n",
      "1 => 0\n",
      "\n",
      "2 => 1\n",
      "\n",
      "3 => 2\n"
     ]
    }
   ],
   "source": [
    "f1 = open('testfile.txt', 'w+t')    # force write text\n",
    "f1.write('sample text')\n",
    "for x in range(3):\n",
    "    f1.write('\\n' + str(x))\n",
    "f1.close()\n",
    "f2 = open('testfile.txt')   # default read mode\n",
    "# c = f2.readline()\n",
    "# print(c)\n",
    "c = f2.readlines()\n",
    "print(type(c))\n",
    "for i, ln in enumerate(c):\n",
    "    print(str(i) + \" => \" + ln)\n"
   ]
  },
  {
   "cell_type": "code",
   "execution_count": 39,
   "metadata": {},
   "outputs": [
    {
     "name": "stdout",
     "output_type": "stream",
     "text": [
      "365 days, 5:01:00\n"
     ]
    }
   ],
   "source": [
    "from datetime import timedelta\n",
    "print (timedelta(days=365, hours=5, minutes=1))"
   ]
  },
  {
   "cell_type": "code",
   "execution_count": 40,
   "metadata": {},
   "outputs": [
    {
     "name": "stdout",
     "output_type": "stream",
     "text": [
      "<class 'set'>\n",
      "<class 'dict'>\n"
     ]
    }
   ],
   "source": [
    "a = {1, 2, 3}\n",
    "b = {\"a\": 1, \"b\": 2, \"c\": 3}\n",
    "print(type(a))\n",
    "print(type(b))"
   ]
  },
  {
   "cell_type": "code",
   "execution_count": 41,
   "metadata": {},
   "outputs": [
    {
     "name": "stdout",
     "output_type": "stream",
     "text": [
      "MyClass method1\n",
      "MyClass method2: [1, 2]\n",
      "MyClass method1\n",
      "AnotherClass method1\n",
      "MyClass method2: strin\n"
     ]
    }
   ],
   "source": [
    "class MyClass():\n",
    "    def method1(self): print(\"MyClass method1\")\n",
    "    def method2(self, someString):\n",
    "        if type(someString) != str:     # type check\n",
    "            someString = str(someString)\n",
    "        print(\"MyClass method2: \" + someString)\n",
    "class AnotherClass(MyClass): # inherit MyClass\n",
    "    def method1(self):\n",
    "        MyClass.method1(self)\n",
    "        print(\"AnotherClass method1\")\n",
    "def main():\n",
    "    c = MyClass(); c.method1(); c.method2([1, 2])\n",
    "    c2 = AnotherClass(); c2.method1(); c2.method2('strin')\n",
    "main()"
   ]
  },
  {
   "cell_type": "code",
   "execution_count": 42,
   "metadata": {},
   "outputs": [
    {
     "name": "stdout",
     "output_type": "stream",
     "text": [
      "0 Mon\n",
      "1 Tue\n",
      "2 Wed\n",
      "3 Thu\n",
      "4 Fri\n",
      "5 Sat\n",
      "6 Sun\n"
     ]
    }
   ],
   "source": [
    "days = [\"Mon\",\"Tue\",\"Wed\",\"Thu\",\"Fri\",\"Sat\",\"Sun\"]\n",
    "for index, day in enumerate(days):    print (index, day)"
   ]
  },
  {
   "cell_type": "code",
   "execution_count": 43,
   "metadata": {},
   "outputs": [
    {
     "name": "stdout",
     "output_type": "stream",
     "text": [
      "5\n"
     ]
    }
   ],
   "source": [
    "# sum digits recursively\n",
    "def sum_dig(n):\n",
    "    if n < 10: return n\n",
    "    else:\n",
    "        all_skipping_last = n // 10  # floor division\n",
    "        # 15 // 2 = 7\n",
    "        last = n % 10\n",
    "        return sum_dig(all_skipping_last) + last\n",
    "\n",
    "print(sum_dig(11111))"
   ]
  },
  {
   "cell_type": "code",
   "execution_count": 57,
   "metadata": {},
   "outputs": [
    {
     "name": "stdout",
     "output_type": "stream",
     "text": [
      "8\n"
     ]
    }
   ],
   "source": [
    "# sequence\n",
    "word_string = \"serendiciuspitous\"\n",
    "vowels_list = ['a', 'i', 'o', 'u', 'e']\n",
    "count_vowels = 0\n",
    "for w in word_string:\n",
    "    if w in vowels_list:\n",
    "        count_vowels += 1\n",
    "\n",
    "print(count_vowels)\n",
    "if count_vowels in globals():\n",
    "    print('count_vowels found')\n",
    "del count_vowels\n",
    "\n",
    "# locals()"
   ]
  },
  {
   "cell_type": "code",
   "execution_count": 56,
   "metadata": {},
   "outputs": [
    {
     "name": "stdout",
     "output_type": "stream",
     "text": [
      "[{'a': 1}, {'b': 2}]\n"
     ]
    }
   ],
   "source": [
    "a_list = [{\"a\": 1}, {\"b\": 2}]\n",
    "print(a_list)"
   ]
  },
  {
   "cell_type": "code",
   "execution_count": 46,
   "metadata": {},
   "outputs": [
    {
     "name": "stdout",
     "output_type": "stream",
     "text": [
      "Making wait 2 seconds\n",
      "100  percent water\n",
      "199.4°F\n",
      "Making wait 0 seconds\n",
      "0  percent water\n",
      "41.0°F\n"
     ]
    }
   ],
   "source": [
    "import time\n",
    "class VeggieMixin:\n",
    "    veggies = [\"tomatoes\", \"onions\", \"carrots\", \"brocholi\"]\n",
    "class SoupMixin:\n",
    "    temprature = \"199.4°F\"\n",
    "    water_percentage = 50\n",
    "    cooking_time = 1\n",
    "class OverrideMixin:\n",
    "    cooking_time = 2\n",
    "    water_percentage = 100\n",
    "class SaladMixin:\n",
    "    temprature = \"41.0°F\"\n",
    "    water_percentage = 0\n",
    "    cooking_time = 0\n",
    "class FoodMixin:\n",
    "    def make_food(self):\n",
    "        print(f\"Making wait {self.cooking_time} seconds\")\n",
    "        time.sleep(self.cooking_time)\t\t# time sleep\n",
    "        print(self.water_percentage, \" percent water\")\n",
    "        print(self.temprature)\n",
    "class VeggieSoup(FoodMixin, VeggieMixin, OverrideMixin, SoupMixin):\n",
    "    pass\t# means no further code for this definition\n",
    "class VeggieSalad(VeggieMixin, SaladMixin, OverrideMixin, FoodMixin):\n",
    "    pass\t# good in case when making wrapper class\n",
    "\n",
    "VeggieSoup().make_food()\n",
    "VeggieSalad().make_food()\n"
   ]
  },
  {
   "cell_type": "code",
   "execution_count": 55,
   "metadata": {},
   "outputs": [
    {
     "name": "stdout",
     "output_type": "stream",
     "text": [
      "{'name': 'name', 'age': 1, 'dob': ''}\n"
     ]
    }
   ],
   "source": [
    "a_dict = { 'name': '', 'age': 1, 'dob': '' }\n",
    "a_dict['name'] = 'name'\n",
    "print(a_dict)"
   ]
  },
  {
   "cell_type": "code",
   "execution_count": 53,
   "metadata": {},
   "outputs": [
    {
     "name": "stdout",
     "output_type": "stream",
     "text": [
      "The Student age using index is : 19\n",
      "The Student name using keyname is : Nandini\n"
     ]
    }
   ],
   "source": [
    "# Python code to demonstrate namedtuple()\n",
    "from collections import namedtuple\n",
    "# Declaring namedtuple()\n",
    "Student = namedtuple('Student', ['name', 'age', 'DOB'])\n",
    "# Adding values\n",
    "S = Student('Nandini', '19', '2541997')\n",
    "# Access using index\n",
    "print(f\"The Student age using index is : {S[1]}\")\n",
    "# Access using name\n",
    "print(f\"The Student name using keyname is : {S.name}\")"
   ]
  },
  {
   "cell_type": "code",
   "execution_count": 48,
   "metadata": {},
   "outputs": [
    {
     "ename": "AttributeError",
     "evalue": "can't set attribute",
     "output_type": "error",
     "traceback": [
      "\u001b[1;31m---------------------------------------------------------------------------\u001b[0m",
      "\u001b[1;31mAttributeError\u001b[0m                            Traceback (most recent call last)",
      "Cell \u001b[1;32mIn[48], line 6\u001b[0m\n\u001b[0;32m      3\u001b[0m Color \u001b[38;5;241m=\u001b[39m namedtuple(\u001b[38;5;124m'\u001b[39m\u001b[38;5;124mColor\u001b[39m\u001b[38;5;124m'\u001b[39m, \u001b[38;5;124m'\u001b[39m\u001b[38;5;124mname value\u001b[39m\u001b[38;5;124m'\u001b[39m)\n\u001b[0;32m      5\u001b[0m red \u001b[38;5;241m=\u001b[39m Color(\u001b[38;5;124m'\u001b[39m\u001b[38;5;124mred\u001b[39m\u001b[38;5;124m'\u001b[39m, \u001b[38;5;241m1\u001b[39m)\n\u001b[1;32m----> 6\u001b[0m \u001b[43mred\u001b[49m\u001b[38;5;241;43m.\u001b[39;49m\u001b[43mname\u001b[49m \u001b[38;5;241m=\u001b[39m \u001b[38;5;124m'\u001b[39m\u001b[38;5;124mred2\u001b[39m\u001b[38;5;124m'\u001b[39m\n\u001b[0;32m      7\u001b[0m \u001b[38;5;28mprint\u001b[39m(red\u001b[38;5;241m.\u001b[39mname, red\u001b[38;5;241m.\u001b[39mvalue)\n",
      "\u001b[1;31mAttributeError\u001b[0m: can't set attribute"
     ]
    }
   ],
   "source": [
    "from collections import namedtuple\n",
    "\n",
    "Color = namedtuple('Color', 'name value')\n",
    "\n",
    "red = Color('red', 1)\n",
    "red.name = 'red2'\n",
    "print(red.name, red.value)"
   ]
  },
  {
   "cell_type": "code",
   "execution_count": null,
   "metadata": {},
   "outputs": [
    {
     "name": "stdout",
     "output_type": "stream",
     "text": [
      "Season.SPRING\n",
      "SPRING\n",
      "1\n",
      "<enum 'Season'>\n",
      "<Season.SPRING: 1>\n",
      "[<Season.SPRING: 1>, <Season.SUMMER: 2>, <Season.AUTUMN: 3>, <Season.WINTER: 4>]\n"
     ]
    }
   ],
   "source": [
    "from enum import Enum\n",
    " \n",
    "class Season(Enum):\n",
    "    SPRING = 1\n",
    "    SUMMER = 2\n",
    "    AUTUMN = 3\n",
    "    WINTER = 4\n",
    "print(Season.SPRING)\n",
    "print(Season.SPRING.name)\n",
    "print(Season.SPRING.value)\n",
    "print(type(Season.SPRING))\n",
    "print(repr(Season.SPRING))\n",
    "print(list(Season))"
   ]
  }
 ],
 "metadata": {
  "kernelspec": {
   "display_name": "Python 3",
   "language": "python",
   "name": "python3"
  },
  "language_info": {
   "codemirror_mode": {
    "name": "ipython",
    "version": 3
   },
   "file_extension": ".py",
   "mimetype": "text/x-python",
   "name": "python",
   "nbconvert_exporter": "python",
   "pygments_lexer": "ipython3",
   "version": "3.12.3"
  }
 },
 "nbformat": 4,
 "nbformat_minor": 2
}
